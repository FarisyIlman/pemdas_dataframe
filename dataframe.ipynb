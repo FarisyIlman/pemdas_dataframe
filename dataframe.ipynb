{
 "cells": [
  {
   "cell_type": "code",
   "execution_count": null,
   "metadata": {},
   "outputs": [],
   "source": [
    "import pandas as pd\n",
    "#farisy ilman syarif - 152023135\n",
    "# Baca file Excel\n",
    "df_excel = pd.read_excel('data_sampah.xlsx')\n",
    "\n",
    "# Menampilkan DataFrame awal\n",
    "print(\"Dataframe Awal:\")\n",
    "print(df_excel)"
   ]
  },
  {
   "cell_type": "code",
   "execution_count": null,
   "metadata": {},
   "outputs": [],
   "source": [
    "df_excel = df_excel[['nama_kabupaten_kota', 'jumlah_produksi_sampah', 'tahun']]\n",
    "\n",
    "print(\"\\nDataframe Setelah Validasi Kolom:\")\n",
    "print(df_excel)"
   ]
  },
  {
   "cell_type": "code",
   "execution_count": null,
   "metadata": {},
   "outputs": [],
   "source": [
    "selected_year = 2015  # Ganti dengan tahun yang diinginkan\n",
    "\n",
    "# Filter data berdasarkan tahun tertentu\n",
    "data_tahun = df_excel[df_excel['tahun'] == selected_year]\n",
    "\n",
    "# Hitung total produksi sampah\n",
    "total_sampah = data_tahun['jumlah_produksi_sampah'].sum()\n",
    "\n",
    "print(f\"\\nTotal produksi sampah di seluruh Kabupaten/Kota di Jawa Barat pada tahun {selected_year}: {total_sampah}\")"
   ]
  },
  {
   "cell_type": "code",
   "execution_count": null,
   "metadata": {},
   "outputs": [],
   "source": [
    "# Inisialisasi dictionary untuk menyimpan jumlah produksi sampah per tahun\n",
    "jumlah_per_tahun = {}\n",
    "\n",
    "for _, row in df_excel.iterrows():\n",
    "    tahun = row['tahun']\n",
    "    sampah = row['jumlah_produksi_sampah']\n",
    "    jumlah_per_tahun[tahun] = jumlah_per_tahun.get(tahun, 0) + sampah\n",
    "\n",
    "# Konversi hasil ke DataFrame\n",
    "jumlah_per_tahun_df = pd.DataFrame(\n",
    "    list(jumlah_per_tahun.items()), columns=['tahun', 'jumlah_produksi_sampah']\n",
    ")\n",
    "\n",
    "print(\"\\nJumlah produksi sampah per tahun:\")\n",
    "print(jumlah_per_tahun_df)"
   ]
  },
  {
   "cell_type": "code",
   "execution_count": null,
   "metadata": {},
   "outputs": [],
   "source": [
    "# Inisialisasi dictionary untuk menyimpan hasil per Kota/Kabupaten per tahun\n",
    "jumlah_per_kota_tahun = {}\n",
    "\n",
    "for _, row in df_excel.iterrows():\n",
    "    kota = row['nama_kabupaten_kota']\n",
    "    tahun = row['tahun']\n",
    "    sampah = row['jumlah_produksi_sampah']\n",
    "    \n",
    "    if kota not in jumlah_per_kota_tahun:\n",
    "        jumlah_per_kota_tahun[kota] = {}\n",
    "    \n",
    "    jumlah_per_kota_tahun[kota][tahun] = jumlah_per_kota_tahun[kota].get(tahun, 0) + sampah\n",
    "\n",
    "# Konversi hasil ke DataFrame\n",
    "records = []\n",
    "for kota, tahun_data in jumlah_per_kota_tahun.items():\n",
    "    for tahun, total_sampah in tahun_data.items():\n",
    "        records.append({'nama_kabupaten_kota': kota, 'tahun': tahun, 'jumlah_produksi_sampah': total_sampah})\n",
    "\n",
    "jumlah_per_kota_tahun_df = pd.DataFrame(records)\n",
    "\n",
    "print(\"\\nJumlah produksi sampah per Kota/Kabupaten per tahun:\")\n",
    "print(jumlah_per_kota_tahun_df)"
   ]
  },
  {
   "cell_type": "code",
   "execution_count": null,
   "metadata": {},
   "outputs": [],
   "source": [
    "# Export DataFrame jumlah produksi sampah per tahun ke file CSV dan Excel\n",
    "jumlah_per_tahun_df.to_csv('jumlah_per_tahun.csv', index=False)\n",
    "jumlah_per_tahun_df.to_excel('jumlah_per_tahun.xlsx', index=False)\n",
    "\n",
    "# Export DataFrame jumlah produksi sampah per Kota/Kabupaten per tahun ke file CSV dan Excel\n",
    "jumlah_per_kota_tahun_df.to_csv('jumlah_per_kota_tahun.csv', index=False)\n",
    "jumlah_per_kota_tahun_df.to_excel('jumlah_per_kota_tahun.xlsx', index=False)"
   ]
  }
 ],
 "metadata": {
  "kernelspec": {
   "display_name": "lat_env",
   "language": "python",
   "name": "python3"
  },
  "language_info": {
   "name": "python",
   "version": "3.11.5"
  }
 },
 "nbformat": 4,
 "nbformat_minor": 2
}
